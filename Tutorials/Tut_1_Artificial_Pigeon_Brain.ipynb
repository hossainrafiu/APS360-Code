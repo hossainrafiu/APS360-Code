{
  "cells": [
    {
      "cell_type": "markdown",
      "metadata": {
        "id": "t_7PSrzbdQbT"
      },
      "source": [
        "# Tutorial 1 - Artificial Pigeon Brain \n",
        "\n",
        "## Last Lecture\n",
        "* Biological Neural Networks (BNNs)\n",
        "* Artificial Neurons Networks (ANNs)\n",
        "* Forward Pass\n",
        "* Activation Functions\n",
        "* Mean Squared Error and Cross-Entropy\n",
        "* Gradient Descent and Backpropagation\n",
        "* Nonlinearity\n",
        "\n",
        "Sample code:"
      ]
    },
    {
      "cell_type": "markdown",
      "metadata": {
        "id": "5vk1HIgTbbKt"
      },
      "source": [
        "#### Example: 1-layer ANN with MSE and Gradient Descent\n"
      ]
    },
    {
      "cell_type": "code",
      "execution_count": 32,
      "metadata": {
        "id": "8tmvmSv7bSvm"
      },
      "outputs": [],
      "source": [
        "import math\n",
        "\n",
        "# data (first column is the bias term)\n",
        "x = [[1, 0.1,-0.2], \n",
        "     [1,-0.1, 0.9], \n",
        "     [1, 1.2, 0.1], \n",
        "     [1, 1.1, 1.5]]\n",
        "\n",
        "# labels (desired output)\n",
        "t = [0, 0, 0, 1]\n",
        "\n",
        "# initial weights\n",
        "w = [1, -1, 1]\n",
        "\n",
        "iterations = 50\n",
        "learning = 10\n",
        "\n",
        "def simple_ann_MSE(x, w, t, iterations, learning):\n",
        "\n",
        "    E = []\n",
        "    \n",
        "    #iterate over epochs\n",
        "    for ii in range(iterations):\n",
        "        err = [] \n",
        "        y = []\n",
        "        #iterate over all the samples x\n",
        "        for n in range(len(x)):\n",
        "            v = 0\n",
        "            # compute w.x\n",
        "            for p in range(len(x[0])):\n",
        "                v = v + x[n][p]*w[p]\n",
        "            \n",
        "            #sigmoidal activation    \n",
        "            y.append(1 / (1 + math.e**(-v))) \n",
        "            \n",
        "            #MSE classification error\n",
        "            err.append((y[n]-t[n])**2)\n",
        "            \n",
        "            #gradient descent to compute new weights\n",
        "            for p in range(len(w)):\n",
        "                d = x[n][p]*(y[n]-t[n])*(1-y[n])*(y[n])\n",
        "                w[p] = w[p] - learning*d\n",
        "                \n",
        "        #sum up classification error\n",
        "        E.append(sum(err)/len(x))\n",
        "    \n",
        "    return (y, w, E)\n",
        "\n",
        "(y, w, E) = simple_ann_MSE(x, w, t, iterations, learning)"
      ]
    },
    {
      "cell_type": "code",
      "execution_count": 33,
      "metadata": {
        "id": "TncfaRORb5tN"
      },
      "outputs": [
        {
          "name": "stdout",
          "output_type": "stream",
          "text": [
            "[0.0006555859880223744, 0.052128479309599574, 0.04486688739303947, 0.9484229735074757]\n"
          ]
        }
      ],
      "source": [
        "print(y)"
      ]
    },
    {
      "cell_type": "markdown",
      "metadata": {
        "id": "Sv7VdSNxcFWT"
      },
      "source": [
        "#### Example: 1-layer ANN with Cross-Entropy and Gradient Descent"
      ]
    },
    {
      "cell_type": "code",
      "execution_count": 34,
      "metadata": {
        "id": "ytnwNDitduho"
      },
      "outputs": [],
      "source": [
        "def simple_ann_CE(x, w, t, iterations, learning):\n",
        "\n",
        "    E = []\n",
        "    \n",
        "    #iterate over epochs\n",
        "    for ii in range(iterations):\n",
        "        err = [] \n",
        "        y = []\n",
        "        \n",
        "        #iterate over all the samples x\n",
        "        for n in range(len(x)):\n",
        "            v = 0\n",
        "            \n",
        "            #compute w.x\n",
        "            for p in range(len(x[0])):\n",
        "                v = v + x[n][p]*w[p]\n",
        "            \n",
        "            #sigmoidal activation\n",
        "            y.append(1 / (1 + math.e**(-v))) \n",
        "            \n",
        "            #cross-entropy classification error\n",
        "            err.append(-t[n]*math.log(y[n]+ 0.000001) - (1-t[n])*math.log(1-y[n]+ 0.000001))\n",
        "\n",
        "            #gradient descent to compute new weights\n",
        "            for p in range(len(w)):\n",
        "                d = x[n][p]*(y[n]-t[n]) #cross_entropy\n",
        "                w[p] = w[p] - learning*d\n",
        "                \n",
        "        #sum up classification error\n",
        "        E.append(sum(err))\n",
        "    \n",
        "    return (y, w, E)\n",
        "\n",
        "(y, w, E) = simple_ann_CE(x, w, t, iterations, learning)"
      ]
    },
    {
      "cell_type": "code",
      "execution_count": 35,
      "metadata": {
        "id": "MnsiF6FDdvM7"
      },
      "outputs": [
        {
          "name": "stdout",
          "output_type": "stream",
          "text": [
            "[1.5220611182206673e-12, 9.152891744525407e-08, 0.00020457583967445263, 0.9995046474331183]\n",
            "[0.3505461395371315, 6.805376705476292, 26.564614243221254, 4.524869189402009, 0.00581592932568457, 0.004531305013205282, 0.0037402867346008617, 0.003200165906455406, 0.0028065871303956874, 0.0025065651988698794, 0.0022701268143129998, 0.0020789625276250003, 0.0019212227892200567, 0.0017888843530261722, 0.0016763134028960054, 0.0015794335299080592, 0.0014952200461149775, 0.0014213800173908835, 0.0013561428005760547, 0.001298118861471155, 0.0012462021759714142, 0.0011995012467585734, 0.0011572893800816282, 0.001118968213772658, 0.0010840405428184413, 0.0010520897843389828, 0.0010227642597937382, 0.0009957650231825878, 0.0009708363340984405, 0.0009477581274454128, 0.0009263400073189873, 0.0009064164163366016, 0.0008878427201236448, 0.0008704920106039989, 0.0008542524785172298, 0.0008390252401733997, 0.000824722529291096, 0.0008112661842396662, 0.0007985863758108651, 0.0007866205320193084, 0.0007753124251897709, 0.000764611393434522, 0.0007544716739748014, 0.0007448518299858864, 0.0007357142559979797, 0.0007270247495661308, 0.0007187521390707735, 0.0007108679592477776, 0.0007033461674488022, 0.0006961628947981837]\n"
          ]
        }
      ],
      "source": [
        "print(y)\n",
        "print(E)"
      ]
    },
    {
      "cell_type": "markdown",
      "metadata": {
        "id": "dVrJJw84dbiJ"
      },
      "source": [
        "### Exploring the Iris dataset\n",
        "\n",
        "Let us modify the above code to work with the iris data set.\n",
        "\n",
        "To begin, load the iris data into Google Colab. Last time we had some difficulty with this, so it's suggested that you use Chrome or Chromium. Another approach to load the iris data is shown below:"
      ]
    },
    {
      "cell_type": "code",
      "execution_count": 36,
      "metadata": {
        "id": "38Qu2LlAIDlQ"
      },
      "outputs": [],
      "source": [
        "# use sklearn.datasets to load iris data\n",
        "from sklearn.datasets import load_iris\n",
        "features, labels = load_iris(return_X_y=True)"
      ]
    },
    {
      "cell_type": "markdown",
      "metadata": {
        "id": "dCcmOIFyIbge"
      },
      "source": [
        "The iris data has 150 samples spread across three classes: \n",
        "1. Iris-setosa, \n",
        "2. Iris-versicolor,\n",
        "3. Iris-virginica. \n",
        "\n",
        "There are three features used: \n",
        "1. sepal length in cm\n",
        "2. sepal width in cm\n",
        "3. petal length in cm\n",
        "4. petal width in cm\n",
        "\n",
        "To keep things simple, let us pick two of the classes and perform binary classification with our sample code. We will select **Iris-setosa** and **Iris-versicolor** to start:"
      ]
    },
    {
      "cell_type": "code",
      "execution_count": 37,
      "metadata": {
        "id": "Ved09UvOz9Wd"
      },
      "outputs": [
        {
          "data": {
            "text/plain": [
              "array([[5.1, 3.5, 1.4, 0.2],\n",
              "       [4.9, 3. , 1.4, 0.2],\n",
              "       [4.7, 3.2, 1.3, 0.2],\n",
              "       [4.6, 3.1, 1.5, 0.2],\n",
              "       [5. , 3.6, 1.4, 0.2],\n",
              "       [5.4, 3.9, 1.7, 0.4],\n",
              "       [4.6, 3.4, 1.4, 0.3],\n",
              "       [5. , 3.4, 1.5, 0.2],\n",
              "       [4.4, 2.9, 1.4, 0.2],\n",
              "       [4.9, 3.1, 1.5, 0.1],\n",
              "       [5.4, 3.7, 1.5, 0.2],\n",
              "       [4.8, 3.4, 1.6, 0.2],\n",
              "       [4.8, 3. , 1.4, 0.1],\n",
              "       [4.3, 3. , 1.1, 0.1],\n",
              "       [5.8, 4. , 1.2, 0.2],\n",
              "       [5.7, 4.4, 1.5, 0.4],\n",
              "       [5.4, 3.9, 1.3, 0.4],\n",
              "       [5.1, 3.5, 1.4, 0.3],\n",
              "       [5.7, 3.8, 1.7, 0.3],\n",
              "       [5.1, 3.8, 1.5, 0.3],\n",
              "       [5.4, 3.4, 1.7, 0.2],\n",
              "       [5.1, 3.7, 1.5, 0.4],\n",
              "       [4.6, 3.6, 1. , 0.2],\n",
              "       [5.1, 3.3, 1.7, 0.5],\n",
              "       [4.8, 3.4, 1.9, 0.2],\n",
              "       [5. , 3. , 1.6, 0.2],\n",
              "       [5. , 3.4, 1.6, 0.4],\n",
              "       [5.2, 3.5, 1.5, 0.2],\n",
              "       [5.2, 3.4, 1.4, 0.2],\n",
              "       [4.7, 3.2, 1.6, 0.2],\n",
              "       [4.8, 3.1, 1.6, 0.2],\n",
              "       [5.4, 3.4, 1.5, 0.4],\n",
              "       [5.2, 4.1, 1.5, 0.1],\n",
              "       [5.5, 4.2, 1.4, 0.2],\n",
              "       [4.9, 3.1, 1.5, 0.2],\n",
              "       [5. , 3.2, 1.2, 0.2],\n",
              "       [5.5, 3.5, 1.3, 0.2],\n",
              "       [4.9, 3.6, 1.4, 0.1],\n",
              "       [4.4, 3. , 1.3, 0.2],\n",
              "       [5.1, 3.4, 1.5, 0.2],\n",
              "       [5. , 3.5, 1.3, 0.3],\n",
              "       [4.5, 2.3, 1.3, 0.3],\n",
              "       [4.4, 3.2, 1.3, 0.2],\n",
              "       [5. , 3.5, 1.6, 0.6],\n",
              "       [5.1, 3.8, 1.9, 0.4],\n",
              "       [4.8, 3. , 1.4, 0.3],\n",
              "       [5.1, 3.8, 1.6, 0.2],\n",
              "       [4.6, 3.2, 1.4, 0.2],\n",
              "       [5.3, 3.7, 1.5, 0.2],\n",
              "       [5. , 3.3, 1.4, 0.2],\n",
              "       [7. , 3.2, 4.7, 1.4],\n",
              "       [6.4, 3.2, 4.5, 1.5],\n",
              "       [6.9, 3.1, 4.9, 1.5],\n",
              "       [5.5, 2.3, 4. , 1.3],\n",
              "       [6.5, 2.8, 4.6, 1.5],\n",
              "       [5.7, 2.8, 4.5, 1.3],\n",
              "       [6.3, 3.3, 4.7, 1.6],\n",
              "       [4.9, 2.4, 3.3, 1. ],\n",
              "       [6.6, 2.9, 4.6, 1.3],\n",
              "       [5.2, 2.7, 3.9, 1.4],\n",
              "       [5. , 2. , 3.5, 1. ],\n",
              "       [5.9, 3. , 4.2, 1.5],\n",
              "       [6. , 2.2, 4. , 1. ],\n",
              "       [6.1, 2.9, 4.7, 1.4],\n",
              "       [5.6, 2.9, 3.6, 1.3],\n",
              "       [6.7, 3.1, 4.4, 1.4],\n",
              "       [5.6, 3. , 4.5, 1.5],\n",
              "       [5.8, 2.7, 4.1, 1. ],\n",
              "       [6.2, 2.2, 4.5, 1.5],\n",
              "       [5.6, 2.5, 3.9, 1.1],\n",
              "       [5.9, 3.2, 4.8, 1.8],\n",
              "       [6.1, 2.8, 4. , 1.3],\n",
              "       [6.3, 2.5, 4.9, 1.5],\n",
              "       [6.1, 2.8, 4.7, 1.2],\n",
              "       [6.4, 2.9, 4.3, 1.3],\n",
              "       [6.6, 3. , 4.4, 1.4],\n",
              "       [6.8, 2.8, 4.8, 1.4],\n",
              "       [6.7, 3. , 5. , 1.7],\n",
              "       [6. , 2.9, 4.5, 1.5],\n",
              "       [5.7, 2.6, 3.5, 1. ],\n",
              "       [5.5, 2.4, 3.8, 1.1],\n",
              "       [5.5, 2.4, 3.7, 1. ],\n",
              "       [5.8, 2.7, 3.9, 1.2],\n",
              "       [6. , 2.7, 5.1, 1.6],\n",
              "       [5.4, 3. , 4.5, 1.5],\n",
              "       [6. , 3.4, 4.5, 1.6],\n",
              "       [6.7, 3.1, 4.7, 1.5],\n",
              "       [6.3, 2.3, 4.4, 1.3],\n",
              "       [5.6, 3. , 4.1, 1.3],\n",
              "       [5.5, 2.5, 4. , 1.3],\n",
              "       [5.5, 2.6, 4.4, 1.2],\n",
              "       [6.1, 3. , 4.6, 1.4],\n",
              "       [5.8, 2.6, 4. , 1.2],\n",
              "       [5. , 2.3, 3.3, 1. ],\n",
              "       [5.6, 2.7, 4.2, 1.3],\n",
              "       [5.7, 3. , 4.2, 1.2],\n",
              "       [5.7, 2.9, 4.2, 1.3],\n",
              "       [6.2, 2.9, 4.3, 1.3],\n",
              "       [5.1, 2.5, 3. , 1.1],\n",
              "       [5.7, 2.8, 4.1, 1.3],\n",
              "       [6.3, 3.3, 6. , 2.5],\n",
              "       [5.8, 2.7, 5.1, 1.9],\n",
              "       [7.1, 3. , 5.9, 2.1],\n",
              "       [6.3, 2.9, 5.6, 1.8],\n",
              "       [6.5, 3. , 5.8, 2.2],\n",
              "       [7.6, 3. , 6.6, 2.1],\n",
              "       [4.9, 2.5, 4.5, 1.7],\n",
              "       [7.3, 2.9, 6.3, 1.8],\n",
              "       [6.7, 2.5, 5.8, 1.8],\n",
              "       [7.2, 3.6, 6.1, 2.5],\n",
              "       [6.5, 3.2, 5.1, 2. ],\n",
              "       [6.4, 2.7, 5.3, 1.9],\n",
              "       [6.8, 3. , 5.5, 2.1],\n",
              "       [5.7, 2.5, 5. , 2. ],\n",
              "       [5.8, 2.8, 5.1, 2.4],\n",
              "       [6.4, 3.2, 5.3, 2.3],\n",
              "       [6.5, 3. , 5.5, 1.8],\n",
              "       [7.7, 3.8, 6.7, 2.2],\n",
              "       [7.7, 2.6, 6.9, 2.3],\n",
              "       [6. , 2.2, 5. , 1.5],\n",
              "       [6.9, 3.2, 5.7, 2.3],\n",
              "       [5.6, 2.8, 4.9, 2. ],\n",
              "       [7.7, 2.8, 6.7, 2. ],\n",
              "       [6.3, 2.7, 4.9, 1.8],\n",
              "       [6.7, 3.3, 5.7, 2.1],\n",
              "       [7.2, 3.2, 6. , 1.8],\n",
              "       [6.2, 2.8, 4.8, 1.8],\n",
              "       [6.1, 3. , 4.9, 1.8],\n",
              "       [6.4, 2.8, 5.6, 2.1],\n",
              "       [7.2, 3. , 5.8, 1.6],\n",
              "       [7.4, 2.8, 6.1, 1.9],\n",
              "       [7.9, 3.8, 6.4, 2. ],\n",
              "       [6.4, 2.8, 5.6, 2.2],\n",
              "       [6.3, 2.8, 5.1, 1.5],\n",
              "       [6.1, 2.6, 5.6, 1.4],\n",
              "       [7.7, 3. , 6.1, 2.3],\n",
              "       [6.3, 3.4, 5.6, 2.4],\n",
              "       [6.4, 3.1, 5.5, 1.8],\n",
              "       [6. , 3. , 4.8, 1.8],\n",
              "       [6.9, 3.1, 5.4, 2.1],\n",
              "       [6.7, 3.1, 5.6, 2.4],\n",
              "       [6.9, 3.1, 5.1, 2.3],\n",
              "       [5.8, 2.7, 5.1, 1.9],\n",
              "       [6.8, 3.2, 5.9, 2.3],\n",
              "       [6.7, 3.3, 5.7, 2.5],\n",
              "       [6.7, 3. , 5.2, 2.3],\n",
              "       [6.3, 2.5, 5. , 1.9],\n",
              "       [6.5, 3. , 5.2, 2. ],\n",
              "       [6.2, 3.4, 5.4, 2.3],\n",
              "       [5.9, 3. , 5.1, 1.8]])"
            ]
          },
          "execution_count": 37,
          "metadata": {},
          "output_type": "execute_result"
        }
      ],
      "source": [
        "features"
      ]
    },
    {
      "cell_type": "code",
      "execution_count": 38,
      "metadata": {
        "id": "dC2-ymA3nTfz"
      },
      "outputs": [
        {
          "data": {
            "text/plain": [
              "array([0, 0, 0, 0, 0, 0, 0, 0, 0, 0, 0, 0, 0, 0, 0, 0, 0, 0, 0, 0, 0, 0,\n",
              "       0, 0, 0, 0, 0, 0, 0, 0, 0, 0, 0, 0, 0, 0, 0, 0, 0, 0, 0, 0, 0, 0,\n",
              "       0, 0, 0, 0, 0, 0, 1, 1, 1, 1, 1, 1, 1, 1, 1, 1, 1, 1, 1, 1, 1, 1,\n",
              "       1, 1, 1, 1, 1, 1, 1, 1, 1, 1, 1, 1, 1, 1, 1, 1, 1, 1, 1, 1, 1, 1,\n",
              "       1, 1, 1, 1, 1, 1, 1, 1, 1, 1, 1, 1, 2, 2, 2, 2, 2, 2, 2, 2, 2, 2,\n",
              "       2, 2, 2, 2, 2, 2, 2, 2, 2, 2, 2, 2, 2, 2, 2, 2, 2, 2, 2, 2, 2, 2,\n",
              "       2, 2, 2, 2, 2, 2, 2, 2, 2, 2, 2, 2, 2, 2, 2, 2, 2, 2])"
            ]
          },
          "execution_count": 38,
          "metadata": {},
          "output_type": "execute_result"
        }
      ],
      "source": [
        "labels"
      ]
    },
    {
      "cell_type": "code",
      "execution_count": 39,
      "metadata": {
        "id": "sj2vXappwiUA"
      },
      "outputs": [],
      "source": [
        "# classification iris-setosa and iris-versicolor\n",
        "import numpy as np\n",
        "\n",
        "indices = np.array(range(0,100))\n",
        "\n",
        "#setup x matrix\n",
        "x = np.zeros((len(indices), 4 + 1))\n",
        "x[:,1:5] = features[indices,:]\n",
        "\n",
        "#add bias column\n",
        "x[:,0] = np.ones(len(indices))\n",
        "\n",
        "#labels\n",
        "t = labels[indices]\n",
        "\n",
        "# initial weights\n",
        "w = np.random.rand(5)\n",
        "\n",
        "iterations = 100\n",
        "learning = 0.0001\n",
        "\n",
        "(y, w, E) = simple_ann_CE(x, w, t, iterations, learning)"
      ]
    },
    {
      "cell_type": "code",
      "execution_count": 40,
      "metadata": {
        "id": "WgPIaMRLzjXC"
      },
      "outputs": [
        {
          "name": "stdout",
          "output_type": "stream",
          "text": [
            "0 0.2736258293484508\n",
            "0 0.29758216476244637\n",
            "0 0.2956475908322699\n",
            "0 0.33018567864646026\n",
            "0 0.2777285368753373\n",
            "0 0.3085677087909272\n",
            "0 0.32589263999479484\n",
            "0 0.2928951690008631\n",
            "0 0.3358595621535858\n",
            "0 0.29089533608396306\n",
            "0 0.25835180163820864\n",
            "0 0.3192345613241836\n",
            "0 0.28742327489290753\n",
            "0 0.28721319769267534\n",
            "0 0.19704786137405678\n",
            "0 0.2514113552148451\n",
            "0 0.2583477351713224\n",
            "0 0.28412335585868526\n",
            "0 0.2708028970361206\n",
            "0 0.28949767302098667\n",
            "0 0.28499354101312496\n",
            "0 0.3060741099952903\n",
            "0 0.25543790293264973\n",
            "0 0.3561294320087776\n",
            "0 0.3551320161486675\n",
            "0 0.30920181618469783\n",
            "0 0.3315204695475542\n",
            "0 0.2718186149080685\n",
            "0 0.2621195243872049\n",
            "0 0.3268420268057597\n",
            "0 0.321043939545851\n",
            "0 0.28757848957432214\n",
            "0 0.24532776195849107\n",
            "0 0.22659461477396178\n",
            "0 0.30004694253202935\n",
            "0 0.25561275540435063\n",
            "0 0.22812967136465076\n",
            "0 0.2629190650345237\n",
            "0 0.314217891948237\n",
            "0 0.27819140831078976\n",
            "0 0.2740512110942749\n",
            "0 0.3371472264381881\n",
            "0 0.3090193484269946\n",
            "0 0.3573599617867148\n",
            "0 0.3491068815634843\n",
            "0 0.31002626252076043\n",
            "0 0.27998698333179334\n",
            "0 0.3050714437681248\n",
            "0 0.2561111390792042\n",
            "0 0.2732859179796126\n",
            "1 0.7513527744859938\n",
            "1 0.781896135887427\n",
            "1 0.7931559735587738\n",
            "1 0.7784528989746053\n",
            "1 0.7933244071684429\n",
            "1 0.8067443237876807\n",
            "1 0.8173203478323564\n",
            "1 0.6984826631820459\n",
            "1 0.7616200714763725\n",
            "1 0.7930975062678418\n",
            "1 0.7242764183111392\n",
            "1 0.7882531360912597\n",
            "1 0.7079285404601422\n",
            "1 0.8141638125555261\n",
            "1 0.7192413696834214\n",
            "1 0.7449910561016208\n",
            "1 0.8325806317006424\n",
            "1 0.7253634473131902\n",
            "1 0.8138879450028277\n",
            "1 0.734945201837679\n",
            "1 0.8669859236797508\n",
            "1 0.734472856998753\n",
            "1 0.83882784315333\n",
            "1 0.7954717640395328\n",
            "1 0.7467346066091579\n",
            "1 0.7563705847133235\n",
            "1 0.7889596177461822\n",
            "1 0.841367202693129\n",
            "1 0.8160316733791781\n",
            "1 0.6639733643818876\n",
            "1 0.735207268917195\n",
            "1 0.7093090366118551\n",
            "1 0.73478070076106\n",
            "1 0.8745582424557483\n",
            "1 0.8455065832432791\n",
            "1 0.820778933252376\n",
            "1 0.7945115706880812\n",
            "1 0.7781001462275657\n",
            "1 0.7783075878245138\n",
            "1 0.7830528091525311\n",
            "1 0.8080931639245015\n",
            "1 0.8099521181093969\n",
            "1 0.7502326850797737\n",
            "1 0.7019466852144259\n",
            "1 0.7945254782413131\n",
            "1 0.7714900145262658\n",
            "1 0.7858482186915868\n",
            "1 0.7658690772906486\n",
            "1 0.6688905945156424\n",
            "1 0.7782906517897611\n"
          ]
        }
      ],
      "source": [
        "for i in range(len(t)):\n",
        "  print(t[i], y[i])"
      ]
    },
    {
      "cell_type": "markdown",
      "metadata": {
        "id": "ZO8CMusz29hQ"
      },
      "source": [
        "We're able to successfully classify iris-setosa and iris-versicolor."
      ]
    },
    {
      "cell_type": "code",
      "execution_count": 41,
      "metadata": {
        "id": "cKtAXhNZJUok"
      },
      "outputs": [],
      "source": [
        "# classification iris-versicolor and iris virginica\n",
        "indices = np.array(range(50,150))\n",
        "\n",
        "#setup x matrix\n",
        "x = np.zeros((len(indices), 4 + 1))\n",
        "x[:,1:5] = features[indices,:]\n",
        "\n",
        "#add bias column\n",
        "x[:,0] = np.ones(len(indices))\n",
        "\n",
        "#labels\n",
        "t = labels[indices]-1\n",
        "\n",
        "# initial weights\n",
        "w = np.random.rand(5)\n",
        "\n",
        "iterations = 100\n",
        "learning = 0.0001\n",
        "\n",
        "\n",
        "(y, w, E) = simple_ann_CE(x, w, t, iterations, learning)"
      ]
    },
    {
      "cell_type": "code",
      "execution_count": 42,
      "metadata": {
        "id": "G5DlhozN2gOW"
      },
      "outputs": [
        {
          "name": "stdout",
          "output_type": "stream",
          "text": [
            "0 0.45638208805602765\n",
            "0 0.49077216388761413\n",
            "0 0.4872236363945252\n",
            "0 0.5409036507371275\n",
            "0 0.5102878768805201\n",
            "0 0.5228133653625558\n",
            "0 0.5075217187942788\n",
            "0 0.49488320680844894\n",
            "0 0.4705910510930364\n",
            "0 0.5375546532894471\n",
            "0 0.51988150666071\n",
            "0 0.5071148757924393\n",
            "0 0.4754750796436929\n",
            "0 0.5107182690572503\n",
            "0 0.4745698205180568\n",
            "0 0.4512129904803515\n",
            "0 0.5331897674812895\n",
            "0 0.45826194009297494\n",
            "0 0.5451110927519633\n",
            "0 0.4827018439486663\n",
            "0 0.552822865352029\n",
            "0 0.4657263996265301\n",
            "0 0.5368656731097978\n",
            "0 0.483033984951542\n",
            "0 0.45440197656094655\n",
            "0 0.45367978568923206\n",
            "0 0.4712479549609315\n",
            "0 0.5105833496595639\n",
            "0 0.5069723636817167\n",
            "0 0.4336445053534871\n",
            "0 0.48141252724394\n",
            "0 0.46388845103358706\n",
            "0 0.46283513800713005\n",
            "0 0.5540201466975523\n",
            "0 0.5300932922587828\n",
            "0 0.4846540051986392\n",
            "0 0.45853620266052414\n",
            "0 0.48879868994944103\n",
            "0 0.47305360850236094\n",
            "0 0.5029455422910802\n",
            "0 0.5015441735820775\n",
            "0 0.4770898348537997\n",
            "0 0.46550323866922066\n",
            "0 0.4721305336259216\n",
            "0 0.4908743766906978\n",
            "0 0.45443341865100767\n",
            "0 0.4720004095556305\n",
            "0 0.4473413080840514\n",
            "0 0.45115452022112706\n",
            "0 0.47152205964194793\n",
            "1 0.635805337419884\n",
            "1 0.5891417772255184\n",
            "1 0.558608870737121\n",
            "1 0.5606225910267171\n",
            "1 0.6017515791537517\n",
            "1 0.563914727002927\n",
            "1 0.6043777294674277\n",
            "1 0.538510113668805\n",
            "1 0.5747109958630751\n",
            "1 0.582981092925004\n",
            "1 0.5412329988473388\n",
            "1 0.5731799784202875\n",
            "1 0.5678249539013485\n",
            "1 0.6231919824406764\n",
            "1 0.652561304152983\n",
            "1 0.5962569626740066\n",
            "1 0.5507511519791138\n",
            "1 0.5412021948087488\n",
            "1 0.6313157469213259\n",
            "1 0.5684739586164105\n",
            "1 0.5912333476958072\n",
            "1 0.6136565138829527\n",
            "1 0.579640861880623\n",
            "1 0.5589269538621668\n",
            "1 0.5757480291860418\n",
            "1 0.5314162718591575\n",
            "1 0.5568819274053036\n",
            "1 0.5560948405248666\n",
            "1 0.6191621703640586\n",
            "1 0.5130196359277229\n",
            "1 0.5656467930608658\n",
            "1 0.5076402437392791\n",
            "1 0.6348138704800834\n",
            "1 0.5339649911964749\n",
            "1 0.5673762435884777\n",
            "1 0.5924521746720004\n",
            "1 0.6341797156907019\n",
            "1 0.5700619269121664\n",
            "1 0.5665031208517427\n",
            "1 0.5774653599440175\n",
            "1 0.6334423913808167\n",
            "1 0.5901748401855882\n",
            "1 0.6221655614096783\n",
            "1 0.6265938155175154\n",
            "1 0.6418052208617973\n",
            "1 0.6137248759661317\n",
            "1 0.6059414027518156\n",
            "1 0.5895345130657043\n",
            "1 0.6284590503033434\n",
            "1 0.5935405046660359\n"
          ]
        }
      ],
      "source": [
        "for i in range(len(t)):\n",
        "  print(t[i], y[i])"
      ]
    },
    {
      "cell_type": "markdown",
      "metadata": {
        "id": "7iwvTlW43L8h"
      },
      "source": [
        "The performance on the iris-versicolor and iris virginica is not as good. To find out why, we will try to visualize the data."
      ]
    },
    {
      "cell_type": "markdown",
      "metadata": {
        "id": "wb_g2BEdU_Fu"
      },
      "source": [
        "### Visualize Iris Dataset\n",
        "Since the Iris dataset has only 4 inputs we can try to visualize it on a 2-dimensional plane to get a better idea of what is happening."
      ]
    },
    {
      "cell_type": "code",
      "execution_count": 43,
      "metadata": {
        "id": "B6SleB-DVS25"
      },
      "outputs": [
        {
          "data": {
            "image/png": "[encoded data removed]",
            "text/plain": [
              "<Figure size 500x400 with 2 Axes>"
            ]
          },
          "metadata": {},
          "output_type": "display_data"
        }
      ],
      "source": [
        "#scatter plot of iris-setosa and iris-versicolor\n",
        "import numpy as np\n",
        "from matplotlib import pyplot as plt\n",
        "\n",
        "indices = np.array(range(0,100))\n",
        "\n",
        "selected_features = features[indices,:]\n",
        "selected_labels = labels[indices]\n",
        "\n",
        "feature_name = ['sepal length in cm', 'sepal width in cm', 'petal length in cm', 'petal width in cm']\n",
        "\n",
        "x_index = 0\n",
        "y_index = 1\n",
        "\n",
        "plt.figure(figsize=(5, 4))\n",
        "plt.scatter(selected_features[:,x_index], selected_features[:,y_index], c= selected_labels)\n",
        "plt.colorbar(ticks=[0, 1, 2])\n",
        "plt.xlabel(feature_name[x_index])\n",
        "plt.ylabel(feature_name[y_index])\n",
        "\n",
        "plt.tight_layout()\n",
        "plt.show()"
      ]
    },
    {
      "cell_type": "code",
      "execution_count": 44,
      "metadata": {
        "id": "mcLbUFswvBCE"
      },
      "outputs": [
        {
          "data": {
            "image/png": "[encoded data removed]",
            "text/plain": [
              "<Figure size 500x400 with 2 Axes>"
            ]
          },
          "metadata": {},
          "output_type": "display_data"
        }
      ],
      "source": [
        "# scatter plot of iris-versicolor and iris virginica\n",
        "import numpy as np\n",
        "from matplotlib import pyplot as plt\n",
        "\n",
        "indices = np.array(range(50,150))\n",
        "\n",
        "selected_features = features[indices,:]\n",
        "selected_labels = labels[indices]\n",
        "\n",
        "feature_name = ['sepal length in cm', 'sepal width in cm', 'petal length in cm', 'petal width in cm']\n",
        "\n",
        "x_index = 0\n",
        "y_index = 1\n",
        "\n",
        "plt.figure(figsize=(5, 4))\n",
        "plt.scatter(selected_features[:,x_index], selected_features[:,y_index], c= selected_labels)\n",
        "plt.colorbar(ticks=[0, 1, 2])\n",
        "plt.xlabel(feature_name[x_index])\n",
        "plt.ylabel(feature_name[y_index])\n",
        "\n",
        "plt.tight_layout()\n",
        "plt.show()"
      ]
    },
    {
      "cell_type": "markdown",
      "metadata": {
        "id": "7Cqsdyg1de8M"
      },
      "source": [
        "### Nonlinear Separation\n",
        "Our 1-layer ANN was only successful one of the binary classification combinations. A 1-layer ANN is unable to handle nonlinear separations (or decisions boundaries). To address this we can introduce a second layer known as a hidden layer. How could we do this?\n",
        "\n",
        "We can just include an additional 1-layer networks as shown in the image below. \n",
        "\n",
        "![alt text](https://miro.medium.com/max/1000/1*sX6T0Y4aa3ARh7IBS_sdqw.png)\n",
        "\n",
        "\n",
        "We would follow the same process as with the 1-layer network:\n",
        "\n",
        "1. write out the equations for the forward pass\n",
        "2. error term can stay the same MSE or Cross-Entropy\n",
        "3. Gradient descent would be applied now to two layers of weights\n",
        "\n",
        "First we would consider the forward pass for a 2-layer ANN. We could use a sigmoidal (logistic) activation function to keep things consistent with our earlier example. Note that the activation function will be applied once on the hidden layer, and also on the output layer.\n",
        "\n",
        "Computing the gradient with respect to the different layers of weights will become more difficult, but still manageable. There are just some additional terms in the chain rule. The second layer weights will be almost identical to what we computed for a 1-layer network, except the input will be the hidden layer activation.\n",
        "\n",
        "Instead of spending the time to compute gradients with each change to the network, which can be a fun mathematical exercise, we will instead focus on using the PyTorch libraries which handle all of this internally."
      ]
    },
    {
      "cell_type": "markdown",
      "metadata": {
        "id": "5g4umO_YStI4"
      },
      "source": [
        "### (Optional) Develop a 2-layer ANN\n",
        "Build a 2-layer network using cross-entropy. Determine the gradients with resepect to the layer 1 and layer 2 weights. How could you validate if the gradients were computed correctly?"
      ]
    },
    {
      "cell_type": "code",
      "execution_count": 45,
      "metadata": {
        "id": "xXNbhFSFTJp1"
      },
      "outputs": [],
      "source": [
        "#write code to build a 2-layer network using cross-entropy\n",
        "\n",
        "\n",
        "\n",
        "\n",
        "\n",
        "\n",
        "\n",
        "\n",
        "\n"
      ]
    },
    {
      "cell_type": "markdown",
      "metadata": {
        "id": "JiwXNn3SNZfu"
      },
      "source": [
        "### What is PyTorch?\n",
        "\n",
        "PyTorch is a scientific computing package that builds on the NumPy library to allow for the use of GPUs. It incorporates deep learning capabilities while maximizing flexibility and speed.\n",
        "\n",
        "### PyTorch Basics\n",
        "\n",
        "To use PyTorch you must first import the library\n",
        "\n",
        "\n",
        "\n",
        "\n",
        "\n",
        "\n",
        "\n"
      ]
    },
    {
      "cell_type": "code",
      "execution_count": 46,
      "metadata": {
        "id": "TU7EUSNcVN9x"
      },
      "outputs": [],
      "source": [
        "import torch"
      ]
    },
    {
      "cell_type": "markdown",
      "metadata": {
        "id": "2bTAo6LzVJwg"
      },
      "source": [
        "#### Tensors\n",
        "Tensors are n-dimensional arrays that allow that can be used with a GPU to accelerate computing. There are several ways to work with Tensors:"
      ]
    },
    {
      "cell_type": "code",
      "execution_count": 47,
      "metadata": {
        "id": "1MuUNQZ3UksM"
      },
      "outputs": [
        {
          "name": "stdout",
          "output_type": "stream",
          "text": [
            "tensor([[0.1586, 0.5632, 0.9553],\n",
            "        [0.3398, 0.8207, 0.3767],\n",
            "        [0.0399, 0.6654, 0.2312],\n",
            "        [0.2026, 0.8096, 0.2680]])\n"
          ]
        }
      ],
      "source": [
        "# initialize a random tensor\n",
        "x = torch.rand(4, 3)\n",
        "print(x)"
      ]
    },
    {
      "cell_type": "code",
      "execution_count": 48,
      "metadata": {
        "id": "SmcpRB48VVFe"
      },
      "outputs": [
        {
          "name": "stdout",
          "output_type": "stream",
          "text": [
            "tensor([[0., 0., 0.],\n",
            "        [0., 0., 0.],\n",
            "        [0., 0., 0.],\n",
            "        [0., 0., 0.]])\n"
          ]
        }
      ],
      "source": [
        "# initialize a tensor loaded with zeros\n",
        "x = torch.zeros(4, 3)\n",
        "print(x)"
      ]
    },
    {
      "cell_type": "code",
      "execution_count": 49,
      "metadata": {
        "id": "LI84uJM-VjyL"
      },
      "outputs": [
        {
          "name": "stdout",
          "output_type": "stream",
          "text": [
            "tensor([ 2.1000,  4.0000, -5.2000])\n"
          ]
        }
      ],
      "source": [
        "# initialized with data entered manually\n",
        "x = torch.tensor([2.1, 4.0, -5.2])\n",
        "print(x)"
      ]
    },
    {
      "cell_type": "code",
      "execution_count": 50,
      "metadata": {
        "id": "421on8nnWE3e"
      },
      "outputs": [
        {
          "name": "stdout",
          "output_type": "stream",
          "text": [
            "[ 2.1  4.  -5.2]\n",
            "tensor([ 2.1000,  4.0000, -5.2000], dtype=torch.float64)\n",
            "[ 2.1  4.  -5.2]\n"
          ]
        }
      ],
      "source": [
        "# initialized with data from numPy\n",
        "import numpy as np\n",
        "data = np.array([2.1, 4.0, -5.2])\n",
        "print(data)\n",
        "x = torch.tensor(data)\n",
        "print(x)\n",
        "\n",
        "# note you can easily convert fron tensor to numpy\n",
        "x_np = x.numpy()\n",
        "print(x_np)"
      ]
    },
    {
      "cell_type": "markdown",
      "metadata": {
        "id": "R_I8gINJWy1g"
      },
      "source": [
        "### Tensor size and shape"
      ]
    },
    {
      "cell_type": "code",
      "execution_count": 51,
      "metadata": {
        "id": "CUCzrV1nW5XA"
      },
      "outputs": [
        {
          "name": "stdout",
          "output_type": "stream",
          "text": [
            "torch.Size([4, 3])\n"
          ]
        }
      ],
      "source": [
        "# obtain size of tensor data structure\n",
        "x = torch.zeros(4, 3)\n",
        "print(x.size())"
      ]
    },
    {
      "cell_type": "markdown",
      "metadata": {
        "id": "cdPIVeeEXFO5"
      },
      "source": [
        "### Operations\n"
      ]
    },
    {
      "cell_type": "code",
      "execution_count": 52,
      "metadata": {
        "id": "M5AltppKXUZv"
      },
      "outputs": [
        {
          "name": "stdout",
          "output_type": "stream",
          "text": [
            "tensor([[1.1469, 1.3182, 1.1060],\n",
            "        [1.3990, 1.7895, 1.1591],\n",
            "        [1.7879, 1.9417, 1.9232],\n",
            "        [1.3624, 1.4250, 1.9854]])\n"
          ]
        }
      ],
      "source": [
        "# tensor addition\n",
        "x = torch.rand(4, 3)\n",
        "y = torch.ones(4, 3)\n",
        "print(x + y)"
      ]
    },
    {
      "cell_type": "code",
      "execution_count": 53,
      "metadata": {
        "id": "9UsB6YlwX_p2"
      },
      "outputs": [
        {
          "name": "stdout",
          "output_type": "stream",
          "text": [
            "tensor([[0.5122, 0.5186, 0.2666],\n",
            "        [0.3253, 0.3971, 0.6395],\n",
            "        [0.4085, 0.7135, 0.8055],\n",
            "        [0.9625, 0.6867, 0.8840]])\n"
          ]
        }
      ],
      "source": [
        "# tensor multiplication\n",
        "x = torch.rand(4, 3)\n",
        "y = torch.ones(4, 3)\n",
        "print(x * y)"
      ]
    },
    {
      "cell_type": "code",
      "execution_count": 54,
      "metadata": {
        "id": "V8W5LZlbXnMu"
      },
      "outputs": [
        {
          "name": "stdout",
          "output_type": "stream",
          "text": [
            "tensor([[1.5122, 1.5186, 1.2666],\n",
            "        [1.3253, 1.3971, 1.6395],\n",
            "        [1.4085, 1.7135, 1.8055],\n",
            "        [1.9625, 1.6867, 1.8840]])\n"
          ]
        }
      ],
      "source": [
        "# Provide output tensor as argument\n",
        "result = torch.ones(4,3)\n",
        "torch.add(x, y, out = result)\n",
        "print(result)"
      ]
    },
    {
      "cell_type": "code",
      "execution_count": 55,
      "metadata": {
        "id": "FxDlMlhnYWAN"
      },
      "outputs": [
        {
          "name": "stdout",
          "output_type": "stream",
          "text": [
            "torch.Size([4, 3]) torch.Size([12]) torch.Size([3, 4])\n"
          ]
        }
      ],
      "source": [
        "# resize and reshape tensors\n",
        "x = torch.randn(4, 3)\n",
        "y = x.view(12)\n",
        "z = x.view(-1, 4)  # the size -1 is inferred from other dimensions\n",
        "print(x.size(), y.size(), z.size())"
      ]
    },
    {
      "cell_type": "code",
      "execution_count": 56,
      "metadata": {
        "id": "IBcAFWNSZnPE"
      },
      "outputs": [
        {
          "name": "stdout",
          "output_type": "stream",
          "text": [
            "tensor([1.0855])\n",
            "1.0854592323303223\n"
          ]
        }
      ],
      "source": [
        "# convert one element tensor to a Python number\n",
        "x = torch.randn(1)\n",
        "print(x)\n",
        "print(x.item())"
      ]
    },
    {
      "cell_type": "markdown",
      "metadata": {
        "id": "OhBQXibrZy0Z"
      },
      "source": [
        "### Automatic Differentiation\n",
        "\n",
        "The PyTorch autograd package allows for easy computation of derivative. This is handled automatically using a define-by-run framework, which works as you write your code. \n",
        "\n",
        "To enable this feature you need to set the Tensor attribute .required_grat to True, at which point it begins to track all operations performed on it. After your computation have been completed you can call .backward() and all the gradients will be computed for you. The gradient for each tensor will be stored in the tensor attribute .grad.\n",
        "\n",
        "Each tensor also has a .grad_fn attribute which references Function that has created it.\n",
        "\n"
      ]
    },
    {
      "cell_type": "code",
      "execution_count": 57,
      "metadata": {
        "id": "bKqBTFK2cRZW"
      },
      "outputs": [
        {
          "name": "stdout",
          "output_type": "stream",
          "text": [
            "tensor([[0.8549, 0.5004, 0.0251],\n",
            "        [0.0303, 0.9263, 0.6100],\n",
            "        [0.3137, 0.5454, 0.9576],\n",
            "        [0.8399, 0.7917, 0.3600]], requires_grad=True)\n",
            "tensor([[117.8289, 110.2586, 100.5022],\n",
            "        [100.6079, 119.3836, 112.5725],\n",
            "        [106.3724, 111.2051, 120.0686],\n",
            "        [117.5030, 116.4615, 107.3302]], grad_fn=<MulBackward0>) tensor(111.6745, grad_fn=<MeanBackward0>)\n"
          ]
        }
      ],
      "source": [
        "# Example computation of gradients\n",
        "x = torch.rand(4, 3, requires_grad=True)\n",
        "print(x)\n",
        "\n",
        "#perform some operations\n",
        "y = x + 10\n",
        "z = y*y\n",
        "out = z.mean()\n",
        "\n",
        "print(z, out)"
      ]
    },
    {
      "cell_type": "code",
      "execution_count": 58,
      "metadata": {
        "id": "6JDr3PgVdGMp"
      },
      "outputs": [
        {
          "name": "stdout",
          "output_type": "stream",
          "text": [
            "tensor([[1.8092, 1.7501, 1.6708],\n",
            "        [1.6717, 1.8210, 1.7683],\n",
            "        [1.7190, 1.7576, 1.8263],\n",
            "        [1.8066, 1.7986, 1.7267]])\n"
          ]
        }
      ],
      "source": [
        "# compute the gradient with respect to the output\n",
        "out.backward()\n",
        "print(x.grad)"
      ]
    },
    {
      "cell_type": "markdown",
      "metadata": {
        "id": "8ntVfJhxUjtN"
      },
      "source": [
        "## Artificial Neural Networks in PyTorch\n",
        "In this example we will train an \"artificial pigeon\" to perform a digit recognition\n",
        "task. That is, we will use the MNIST dataset of hand-written digits, and train\n",
        "the pigeon to **recognize a small digit, namely a digit that is less than 3**.\n",
        "This problem is a **binary classification problem** we want to predict\n",
        "which of two classes an input image is a part of.\n",
        "\n",
        "### 1) Load MNIST Data\n",
        "The MNIST dataset contains hand-written digits that are 28x28=784 pixels large.\n",
        "Here are a few digits in the dataset:\n"
      ]
    },
    {
      "cell_type": "code",
      "execution_count": 59,
      "metadata": {
        "id": "FOu8rvDVMpSq"
      },
      "outputs": [
        {
          "name": "stdout",
          "output_type": "stream",
          "text": [
            "Downloading http://yann.lecun.com/exdb/mnist/train-images-idx3-ubyte.gz\n",
            "Downloading http://yann.lecun.com/exdb/mnist/train-images-idx3-ubyte.gz to data\\MNIST\\raw\\train-images-idx3-ubyte.gz\n"
          ]
        },
        {
          "data": {
            "application/vnd.jupyter.widget-view+json": {
              "model_id": "cf41d6c96aa44356b332d163ef56ea6a",
              "version_major": 2,
              "version_minor": 0
            },
            "text/plain": [
              "  0%|          | 0/9912422 [00:00<?, ?it/s]"
            ]
          },
          "metadata": {},
          "output_type": "display_data"
        },
        {
          "name": "stdout",
          "output_type": "stream",
          "text": [
            "Extracting data\\MNIST\\raw\\train-images-idx3-ubyte.gz to data\\MNIST\\raw\n",
            "\n",
            "Downloading http://yann.lecun.com/exdb/mnist/train-labels-idx1-ubyte.gz\n",
            "Downloading http://yann.lecun.com/exdb/mnist/train-labels-idx1-ubyte.gz to data\\MNIST\\raw\\train-labels-idx1-ubyte.gz\n"
          ]
        },
        {
          "data": {
            "application/vnd.jupyter.widget-view+json": {
              "model_id": "9a016e8d913b4b8d8e299d5c07008d8c",
              "version_major": 2,
              "version_minor": 0
            },
            "text/plain": [
              "  0%|          | 0/28881 [00:00<?, ?it/s]"
            ]
          },
          "metadata": {},
          "output_type": "display_data"
        },
        {
          "name": "stdout",
          "output_type": "stream",
          "text": [
            "Extracting data\\MNIST\\raw\\train-labels-idx1-ubyte.gz to data\\MNIST\\raw\n",
            "\n",
            "Downloading http://yann.lecun.com/exdb/mnist/t10k-images-idx3-ubyte.gz\n",
            "Downloading http://yann.lecun.com/exdb/mnist/t10k-images-idx3-ubyte.gz to data\\MNIST\\raw\\t10k-images-idx3-ubyte.gz\n"
          ]
        },
        {
          "data": {
            "application/vnd.jupyter.widget-view+json": {
              "model_id": "948ee37a158a44a5a741c656d51bbaa0",
              "version_major": 2,
              "version_minor": 0
            },
            "text/plain": [
              "  0%|          | 0/1648877 [00:00<?, ?it/s]"
            ]
          },
          "metadata": {},
          "output_type": "display_data"
        },
        {
          "name": "stdout",
          "output_type": "stream",
          "text": [
            "Extracting data\\MNIST\\raw\\t10k-images-idx3-ubyte.gz to data\\MNIST\\raw\n",
            "\n",
            "Downloading http://yann.lecun.com/exdb/mnist/t10k-labels-idx1-ubyte.gz\n",
            "Downloading http://yann.lecun.com/exdb/mnist/t10k-labels-idx1-ubyte.gz to data\\MNIST\\raw\\t10k-labels-idx1-ubyte.gz\n"
          ]
        },
        {
          "data": {
            "application/vnd.jupyter.widget-view+json": {
              "model_id": "3a0a3046d644459fb0e00c4d122e32d5",
              "version_major": 2,
              "version_minor": 0
            },
            "text/plain": [
              "  0%|          | 0/4542 [00:00<?, ?it/s]"
            ]
          },
          "metadata": {},
          "output_type": "display_data"
        },
        {
          "name": "stdout",
          "output_type": "stream",
          "text": [
            "Extracting data\\MNIST\\raw\\t10k-labels-idx1-ubyte.gz to data\\MNIST\\raw\n",
            "\n"
          ]
        }
      ],
      "source": [
        "from torchvision import datasets, transforms\n",
        "\n",
        "# load the data\n",
        "mnist_train = datasets.MNIST('data', train=True, download=True)\n",
        "mnist_train = list(mnist_train)[:2000]"
      ]
    },
    {
      "cell_type": "code",
      "execution_count": 60,
      "metadata": {
        "id": "U3xCgqcwMvCl"
      },
      "outputs": [
        {
          "data": {
            "image/png": "[encoded data removed]",
            "text/plain": [
              "<Figure size 640x480 with 18 Axes>"
            ]
          },
          "metadata": {},
          "output_type": "display_data"
        }
      ],
      "source": [
        "# plot the first 18 images in the training data\n",
        "for k, (image, label) in enumerate(mnist_train[:18]):\n",
        "    plt.subplot(3, 6, k+1)\n",
        "    plt.imshow(image)\n"
      ]
    },
    {
      "cell_type": "markdown",
      "metadata": {
        "id": "F-DcwbkZ3Nlx"
      },
      "source": [
        "### 2) Defining the ANN Forward Pass\n",
        "Here is an implementation of the artificial pigeon brain in PyTorch.\n",
        "Don't worry if this code or the explanations don't make sense yet."
      ]
    },
    {
      "cell_type": "code",
      "execution_count": 61,
      "metadata": {
        "id": "1-ueh5jh3I5p"
      },
      "outputs": [],
      "source": [
        "import torch\n",
        "import torch.nn as nn\n",
        "import torch.nn.functional as F\n",
        "from torchvision import datasets, transforms\n",
        "import matplotlib.pyplot as plt # for plotting\n",
        "\n",
        "import torch.optim as optim\n",
        "\n",
        "torch.manual_seed(1) # set the random seed\n",
        "\n",
        "class Pigeon(nn.Module):\n",
        "    def __init__(self):\n",
        "        super(Pigeon, self).__init__()\n",
        "        self.layer1 = nn.Linear(784, 30) # 784 = 28x28 every pixel is a feature\n",
        "        \n",
        "        self.layer2 = nn.Linear(30, 1)\n",
        "    def forward(self, img):\n",
        "        flattened = img.view(-1, 28 * 28)\n",
        "        activation1 = self.layer1(flattened)\n",
        "        activation1 = F.relu(activation1)\n",
        "        activation2 = self.layer2(activation1)\n",
        "        return activation2\n",
        "\n",
        "pigeon = Pigeon()"
      ]
    },
    {
      "cell_type": "markdown",
      "metadata": {
        "id": "hi9lSSOtKhEE"
      },
      "source": [
        "In this network, there are 28x28 = 784 input neurons, to work with our 28x28 pixel images. We have a single output neuron and a hidden layer of 30 neurons.\n",
        "\n",
        "The variable `pigeon.layer1` contains information about the connectivity\n",
        "between the input layer and the hidden layer (stored as a matrix), and the\n",
        "biases (stored as a vector).\n",
        "\n",
        "Similarly, the variable `pigeon.layer2` contains information about the weights\n",
        "between the hidden layer and the output layer, and the bias.\n",
        "\n",
        "The weights and biases adjust during training, so they are called the model's\n",
        "**parameters**."
      ]
    },
    {
      "cell_type": "code",
      "execution_count": 62,
      "metadata": {
        "id": "82KQZkDlLx7j"
      },
      "outputs": [
        {
          "name": "stdout",
          "output_type": "stream",
          "text": [
            "Parameter containing:\n",
            "tensor([[ 0.0184, -0.0158, -0.0069,  ...,  0.0068, -0.0041,  0.0025],\n",
            "        [-0.0274, -0.0224, -0.0309,  ..., -0.0029,  0.0013, -0.0167],\n",
            "        [ 0.0282, -0.0095, -0.0340,  ..., -0.0141,  0.0056, -0.0335],\n",
            "        ...,\n",
            "        [ 0.0267,  0.0186, -0.0326,  ...,  0.0047, -0.0072, -0.0301],\n",
            "        [-0.0190,  0.0291,  0.0221,  ...,  0.0067,  0.0206,  0.0151],\n",
            "        [ 0.0226,  0.0331,  0.0182,  ...,  0.0150,  0.0278, -0.0073]],\n",
            "       requires_grad=True)\n",
            "Parameter containing:\n",
            "tensor([-0.0210,  0.0144,  0.0214, -0.0018, -0.0185,  0.0275, -0.0284, -0.0248,\n",
            "        -0.0180, -0.0168, -0.0226, -0.0093,  0.0211, -0.0311,  0.0002, -0.0010,\n",
            "         0.0201,  0.0176, -0.0050,  0.0118, -0.0089,  0.0078, -0.0072,  0.0118,\n",
            "         0.0122, -0.0125,  0.0326,  0.0306,  0.0058, -0.0089],\n",
            "       requires_grad=True)\n"
          ]
        }
      ],
      "source": [
        "# view parameters\n",
        "for w in pigeon.layer1.parameters():\n",
        "    print(w)"
      ]
    },
    {
      "cell_type": "markdown",
      "metadata": {
        "id": "86ubAvO03eMp"
      },
      "source": [
        "### 3) Test Network Forward Pass\n",
        "Here is an example of using the network to classify whether the\n",
        "image contains a small digit."
      ]
    },
    {
      "cell_type": "code",
      "execution_count": 63,
      "metadata": {
        "id": "OtiBP83X247A"
      },
      "outputs": [
        {
          "name": "stdout",
          "output_type": "stream",
          "text": [
            "tensor([[0.5009]], grad_fn=<SigmoidBackward0>)\n",
            "tensor([[0.5219]], grad_fn=<SigmoidBackward0>)\n",
            "tensor([[0.4872]], grad_fn=<SigmoidBackward0>)\n",
            "tensor([[0.5012]], grad_fn=<SigmoidBackward0>)\n",
            "tensor([[0.4940]], grad_fn=<SigmoidBackward0>)\n",
            "tensor([[0.4966]], grad_fn=<SigmoidBackward0>)\n",
            "tensor([[0.5027]], grad_fn=<SigmoidBackward0>)\n",
            "tensor([[0.4993]], grad_fn=<SigmoidBackward0>)\n",
            "tensor([[0.4996]], grad_fn=<SigmoidBackward0>)\n",
            "tensor([[0.4942]], grad_fn=<SigmoidBackward0>)\n"
          ]
        }
      ],
      "source": [
        "# make predictions for the first 10 images in mnist_train\n",
        "img_to_tensor = transforms.ToTensor() #transform the image data into a 28x28 matrix of numbers\n",
        "\n",
        "for k, (image, label) in enumerate(mnist_train[:10]):\n",
        "    inval = img_to_tensor(image)\n",
        "    outval = pigeon(inval)       # find the output activation given input\n",
        "    prob = torch.sigmoid(outval) # turn the activation into a probability\n",
        "    print(prob)"
      ]
    },
    {
      "cell_type": "markdown",
      "metadata": {
        "id": "SHkHYl0aO7ot"
      },
      "source": [
        "Since we haven't trained the network\n",
        "yet, the predicted probability of images containing a small digit \n",
        "is close to half. The \"pigeon\" is unsure.\n",
        "\n",
        "In order for the network to be useful, we need to actually train it, so\n",
        "that the weights are actually meaningful, non-random values."
      ]
    },
    {
      "cell_type": "markdown",
      "metadata": {
        "id": "RiUzssKS3ifv"
      },
      "source": [
        "### 4) Update Parameters using Gradient Descent with Cross-Entropy\n",
        "To update the parameters (weights) we will first use the network to make predictions, then compare the predictions\n",
        "agains the ground truth. To compare the predictions against actual values we'll compute a classification error using the Cross-Entropy equation.\n",
        "\n",
        "The classification error, that is how good or bad the prediction was compared to the actual values is more commonly referred to as the **loss** and Cross-Entropy is the **loss function**. The introduction of a loss function makes our problem a **optimization** problem: what set of parameters minimizes the loss across the training examples?\n",
        "\n",
        "Turning a learning problem into an optimization problem\n",
        "is actually a very subtle but important step in many machine learning tools,\n",
        "because it allows us to use tools from mathematical optimization.\n",
        "\n",
        "That there are **optimizers** that can tune the network parameters for\n",
        "us is also really, really cool. The gradient descent algorithm we derived in the last lecture is one example of an optimizer.\n",
        "\n",
        "For now, we will choose a standard loss function for a binary classification\n",
        "problem: the **binary cross-entropy loss**. We'll also choose\n",
        "a **stochastic gradient descent** optimizer. We'll talk about\n",
        "what these mean later in the course."
      ]
    },
    {
      "cell_type": "code",
      "execution_count": 64,
      "metadata": {
        "id": "qZhbr5Bw270k"
      },
      "outputs": [],
      "source": [
        "# simplified training code to train `pigeon` on the \"small digit recognition\" task\n",
        "import torch.optim as optim\n",
        "criterion = nn.BCEWithLogitsLoss()\n",
        "optimizer = optim.SGD(pigeon.parameters(), lr=0.005)"
      ]
    },
    {
      "cell_type": "markdown",
      "metadata": {
        "id": "BtHoiE6AYadE"
      },
      "source": [
        "Now, we can start to train the pigeon network, similar to the way we would train\n",
        "a real pigeon:\n",
        "\n",
        "1. We'll show the network pictures of digits, one by one\n",
        "2. We'll see what the network predicts\n",
        "3. We'll check the loss function for that example digit, comparing the network prediction against the ground truth\n",
        "4. We'll make a small update to the parameters to try and improve the loss for that digit\n",
        "5. We'll continue doing this many times -- let's say 1000 times\n",
        "\n",
        "For simplicity, we'll use 1000 images, and show the network each image only once."
      ]
    },
    {
      "cell_type": "code",
      "execution_count": 65,
      "metadata": {
        "id": "LHmT89U0RM3C"
      },
      "outputs": [],
      "source": [
        "for (image, label) in mnist_train[:1000]:\n",
        "    # actual ground truth: is the digit less than 3?\n",
        "    actual = torch.tensor(label < 3).reshape([1,1]).type(torch.FloatTensor)\n",
        "    # pigeon prediction\n",
        "    out = pigeon(img_to_tensor(image)) # step 1-2\n",
        "    # update the parameters based on the loss\n",
        "    loss = criterion(out, actual)      # step 3\n",
        "    loss.backward()                    # step 4 (compute the updates for each parameter)\n",
        "    optimizer.step()                   # step 4 (make the updates for each parameter)\n",
        "    optimizer.zero_grad()              # a clean up step for PyTorch"
      ]
    },
    {
      "cell_type": "markdown",
      "metadata": {
        "id": "JfzAfZiuRQWx"
      },
      "source": [
        "It is very common to run into errors with changing different data types to tensors with the correct shape."
      ]
    },
    {
      "cell_type": "markdown",
      "metadata": {
        "id": "p9Gieq973sDh"
      },
      "source": [
        "### 5) Test Updated Network Forward Pass"
      ]
    },
    {
      "cell_type": "code",
      "execution_count": 66,
      "metadata": {
        "id": "N-RgzimS3FEW"
      },
      "outputs": [
        {
          "name": "stdout",
          "output_type": "stream",
          "text": [
            "5 tensor([[0.0995]], grad_fn=<SigmoidBackward0>)\n",
            "0 tensor([[0.8375]], grad_fn=<SigmoidBackward0>)\n",
            "4 tensor([[0.1820]], grad_fn=<SigmoidBackward0>)\n",
            "1 tensor([[0.6976]], grad_fn=<SigmoidBackward0>)\n",
            "9 tensor([[0.0347]], grad_fn=<SigmoidBackward0>)\n",
            "2 tensor([[0.2681]], grad_fn=<SigmoidBackward0>)\n",
            "1 tensor([[0.2112]], grad_fn=<SigmoidBackward0>)\n",
            "3 tensor([[0.0804]], grad_fn=<SigmoidBackward0>)\n",
            "1 tensor([[0.2899]], grad_fn=<SigmoidBackward0>)\n",
            "4 tensor([[0.0575]], grad_fn=<SigmoidBackward0>)\n"
          ]
        }
      ],
      "source": [
        "# make predictions for the first 10 images in mnist_train\n",
        "for k, (image, label) in enumerate(mnist_train[:10]):\n",
        "    print(label, torch.sigmoid(pigeon(img_to_tensor(image))))"
      ]
    },
    {
      "cell_type": "markdown",
      "metadata": {
        "id": "Otc8_sYjOk1I"
      },
      "source": [
        "Not bad! We'll use the probability 50% as the cutoff for making a \n",
        "discrete prediction. Then, we can compute the accuracy on the 1000\n",
        "images we used to train the network."
      ]
    },
    {
      "cell_type": "markdown",
      "metadata": {
        "id": "-pluL_aN30CC"
      },
      "source": [
        "### 6)a) Validation of Network on Training Data"
      ]
    },
    {
      "cell_type": "code",
      "execution_count": 67,
      "metadata": {
        "id": "r-Qq5Bgh4Hx9"
      },
      "outputs": [
        {
          "name": "stdout",
          "output_type": "stream",
          "text": [
            "Training Error Rate: 0.112\n",
            "Training Accuracy: 0.888\n"
          ]
        }
      ],
      "source": [
        "# computing the error and accuracy on the training set\n",
        "error = 0\n",
        "for (image, label) in mnist_train[:1000]:\n",
        "    prob = torch.sigmoid(pigeon(img_to_tensor(image)))\n",
        "    if (prob < 0.5 and label < 3) or (prob >= 0.5 and label >= 3):\n",
        "        error += 1\n",
        "print(\"Training Error Rate:\", error/1000)\n",
        "print(\"Training Accuracy:\", 1 - error/1000)"
      ]
    },
    {
      "cell_type": "markdown",
      "metadata": {
        "id": "ZNozPD5XOk1L"
      },
      "source": [
        "The accuracy on those 1000 images is 96%, which is really good considering\n",
        "that we only showed the network each image only once.\n",
        "\n",
        "However, this accuracy is not representative of how well the network is doing,\n",
        "because the network was *trained* on the data. The network had a chance to\n",
        "see the actual answer, and learn from that answer. To get a better sense of\n",
        "the network's predictive accuracy, we should compute accuracy numbers on\n",
        "a **test set**: a set of images that were not seen in training."
      ]
    },
    {
      "cell_type": "markdown",
      "metadata": {
        "id": "VplQogR24Aue"
      },
      "source": [
        "### 6)b) Validation of Network on Testing Data"
      ]
    },
    {
      "cell_type": "code",
      "execution_count": 68,
      "metadata": {
        "id": "blrK9sxS4IX5"
      },
      "outputs": [
        {
          "name": "stdout",
          "output_type": "stream",
          "text": [
            "Test Error Rate: 0.137\n",
            "Test Accuracy: 0.863\n"
          ]
        }
      ],
      "source": [
        "# computing the error and accuracy on a test set\n",
        "error = 0\n",
        "for (image, label) in mnist_train[1000:2000]:\n",
        "    prob = torch.sigmoid(pigeon(img_to_tensor(image)))\n",
        "    if (prob < 0.5 and label < 3) or (prob >= 0.5 and label >= 3):\n",
        "        error += 1\n",
        "print(\"Test Error Rate:\", error/1000)\n",
        "print(\"Test Accuracy:\", 1 - error/1000)"
      ]
    }
  ],
  "metadata": {
    "colab": {
      "collapsed_sections": [],
      "name": "S22_Tut_1_Artificial_Pigeon_Brain.ipynb",
      "provenance": []
    },
    "kernelspec": {
      "display_name": "Python 3",
      "language": "python",
      "name": "python3"
    },
    "language_info": {
      "codemirror_mode": {
        "name": "ipython",
        "version": 3
      },
      "file_extension": ".py",
      "mimetype": "text/x-python",
      "name": "python",
      "nbconvert_exporter": "python",
      "pygments_lexer": "ipython3",
      "version": "3.9.13"
    }
  },
  "nbformat": 4,
  "nbformat_minor": 0
}
